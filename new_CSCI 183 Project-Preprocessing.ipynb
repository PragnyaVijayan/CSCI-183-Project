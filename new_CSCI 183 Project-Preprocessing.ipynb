{
 "cells": [
  {
   "cell_type": "code",
   "execution_count": 1,
   "id": "eb9b2394",
   "metadata": {
    "scrolled": true
   },
   "outputs": [],
   "source": [
    "!python -m venv myenv\n",
    "!source myenv/bin/activate"
   ]
  },
  {
   "cell_type": "code",
   "execution_count": 9,
   "id": "fb43a7da",
   "metadata": {},
   "outputs": [
    {
     "name": "stdout",
     "output_type": "stream",
     "text": [
      "Intel MKL WARNING: Support of Intel(R) Streaming SIMD Extensions 4.2 (Intel(R) SSE4.2) enabled only processors has been deprecated. Intel oneAPI Math Kernel Library 2025.0 will require Intel(R) Advanced Vector Extensions (Intel(R) AVX) instructions.\n",
      "Intel MKL WARNING: Support of Intel(R) Streaming SIMD Extensions 4.2 (Intel(R) SSE4.2) enabled only processors has been deprecated. Intel oneAPI Math Kernel Library 2025.0 will require Intel(R) Advanced Vector Extensions (Intel(R) AVX) instructions.\n",
      "['.DS_Store', 'CSCI 183 Project-Preprocessing.ipynb', 'ball_by_ball_data_commentary.csv', '.env', '.ipynb_checkpoints', 'myenv', 'Project - Analysis.ipynb', 'spell_checked_df.csv']\n"
     ]
    },
    {
     "name": "stderr",
     "output_type": "stream",
     "text": [
      "[nltk_data] Downloading package punkt to\n",
      "[nltk_data]     /Users/pragnyavijayan/nltk_data...\n",
      "[nltk_data]   Package punkt is already up-to-date!\n",
      "[nltk_data] Downloading package stopwords to\n",
      "[nltk_data]     /Users/pragnyavijayan/nltk_data...\n",
      "[nltk_data]   Package stopwords is already up-to-date!\n",
      "[nltk_data] Downloading package wordnet to\n",
      "[nltk_data]     /Users/pragnyavijayan/nltk_data...\n",
      "[nltk_data]   Package wordnet is already up-to-date!\n",
      "[nltk_data] Downloading package omw-1.4 to\n",
      "[nltk_data]     /Users/pragnyavijayan/nltk_data...\n",
      "[nltk_data]   Package omw-1.4 is already up-to-date!\n"
     ]
    }
   ],
   "source": [
    "import pandas as pd\n",
    "import os\n",
    "import re\n",
    "import spacy\n",
    "\n",
    "import nltk\n",
    "from nltk.stem.porter import *\n",
    "from nltk.stem import WordNetLemmatizer\n",
    "from nltk.corpus import stopwords\n",
    "from nltk.tokenize import word_tokenize\n",
    "\n",
    "from spellchecker import SpellChecker\n",
    "\n",
    "#Load SpaCy model\n",
    "spacy = spacy.load('en_core_web_sm')\n",
    "\n",
    "# Download NLTK stopwords\n",
    "nltk.download('punkt')\n",
    "nltk.download('stopwords')\n",
    "nltk.download('wordnet')\n",
    "nltk.download('omw-1.4')\n",
    "\n",
    "print(os.listdir())"
   ]
  },
  {
   "cell_type": "code",
   "execution_count": 10,
   "id": "385199f2",
   "metadata": {
    "scrolled": true
   },
   "outputs": [
    {
     "data": {
      "text/html": [
       "<div>\n",
       "<style scoped>\n",
       "    .dataframe tbody tr th:only-of-type {\n",
       "        vertical-align: middle;\n",
       "    }\n",
       "\n",
       "    .dataframe tbody tr th {\n",
       "        vertical-align: top;\n",
       "    }\n",
       "\n",
       "    .dataframe thead th {\n",
       "        text-align: right;\n",
       "    }\n",
       "</style>\n",
       "<table border=\"1\" class=\"dataframe\">\n",
       "  <thead>\n",
       "    <tr style=\"text-align: right;\">\n",
       "      <th></th>\n",
       "      <th>match_no</th>\n",
       "      <th>batting_team</th>\n",
       "      <th>batting_side</th>\n",
       "      <th>overs</th>\n",
       "      <th>runs</th>\n",
       "      <th>bowler_to_batsman, runs</th>\n",
       "      <th>commentary</th>\n",
       "    </tr>\n",
       "  </thead>\n",
       "  <tbody>\n",
       "    <tr>\n",
       "      <th>0</th>\n",
       "      <td>1</td>\n",
       "      <td>AFG</td>\n",
       "      <td>2</td>\n",
       "      <td>0.1</td>\n",
       "      <td>1</td>\n",
       "      <td>Madushanka to Hazratullah Zazai, 1 run</td>\n",
       "      <td>nudged down to fine leg for a single</td>\n",
       "    </tr>\n",
       "    <tr>\n",
       "      <th>1</th>\n",
       "      <td>1</td>\n",
       "      <td>AFG</td>\n",
       "      <td>2</td>\n",
       "      <td>0.2</td>\n",
       "      <td>0</td>\n",
       "      <td>Madushanka to Rahmanullah, no run</td>\n",
       "      <td>lovely delivery, Holds its line and beats the ...</td>\n",
       "    </tr>\n",
       "    <tr>\n",
       "      <th>2</th>\n",
       "      <td>1</td>\n",
       "      <td>AFG</td>\n",
       "      <td>2</td>\n",
       "      <td>0.3</td>\n",
       "      <td>1lb</td>\n",
       "      <td>Madushanka to Rahmanullah, 1 leg bye</td>\n",
       "      <td>shaping back into him. He squeezes it thbrough...</td>\n",
       "    </tr>\n",
       "    <tr>\n",
       "      <th>3</th>\n",
       "      <td>1</td>\n",
       "      <td>AFG</td>\n",
       "      <td>2</td>\n",
       "      <td>0.4</td>\n",
       "      <td>0</td>\n",
       "      <td>Madushanka to Hazratullah Zazai, no run</td>\n",
       "      <td>driven to extra cover, where it's well fielded</td>\n",
       "    </tr>\n",
       "    <tr>\n",
       "      <th>4</th>\n",
       "      <td>1</td>\n",
       "      <td>AFG</td>\n",
       "      <td>2</td>\n",
       "      <td>0.5</td>\n",
       "      <td>5w</td>\n",
       "      <td>Madushanka to Hazratullah Zazai, 5 wide</td>\n",
       "      <td>well, that's help. 5 free runs gifted to Afgha...</td>\n",
       "    </tr>\n",
       "    <tr>\n",
       "      <th>...</th>\n",
       "      <td>...</td>\n",
       "      <td>...</td>\n",
       "      <td>...</td>\n",
       "      <td>...</td>\n",
       "      <td>...</td>\n",
       "      <td>...</td>\n",
       "      <td>...</td>\n",
       "    </tr>\n",
       "    <tr>\n",
       "      <th>2646</th>\n",
       "      <td>13</td>\n",
       "      <td>SL</td>\n",
       "      <td>1</td>\n",
       "      <td>19.2</td>\n",
       "      <td>2</td>\n",
       "      <td>Naseem Shah to Rajapaksa, 2 runs</td>\n",
       "      <td>gets back on strike with some hard running. Sl...</td>\n",
       "    </tr>\n",
       "    <tr>\n",
       "      <th>2647</th>\n",
       "      <td>13</td>\n",
       "      <td>SL</td>\n",
       "      <td>1</td>\n",
       "      <td>19.3</td>\n",
       "      <td>2</td>\n",
       "      <td>Naseem Shah to Rajapaksa, 2 runs</td>\n",
       "      <td>another double. And 160 is breached. Full ball...</td>\n",
       "    </tr>\n",
       "    <tr>\n",
       "      <th>2648</th>\n",
       "      <td>13</td>\n",
       "      <td>SL</td>\n",
       "      <td>1</td>\n",
       "      <td>19.4</td>\n",
       "      <td>0</td>\n",
       "      <td>Naseem Shah to Rajapaksa, no run</td>\n",
       "      <td>short ball, slower ball on middle. Rajapaksa w...</td>\n",
       "    </tr>\n",
       "    <tr>\n",
       "      <th>2649</th>\n",
       "      <td>13</td>\n",
       "      <td>SL</td>\n",
       "      <td>1</td>\n",
       "      <td>19.5</td>\n",
       "      <td>4</td>\n",
       "      <td>Naseem Shah to Rajapaksa, FOUR runs</td>\n",
       "      <td>cute shot! Full on middle and leg. Rajapaksa m...</td>\n",
       "    </tr>\n",
       "    <tr>\n",
       "      <th>2650</th>\n",
       "      <td>13</td>\n",
       "      <td>SL</td>\n",
       "      <td>1</td>\n",
       "      <td>19.6</td>\n",
       "      <td>6</td>\n",
       "      <td>Naseem Shah to Rajapaksa, SIX runs</td>\n",
       "      <td>momentum with Sri Lanka! And the tournament's ...</td>\n",
       "    </tr>\n",
       "  </tbody>\n",
       "</table>\n",
       "<p>2651 rows × 7 columns</p>\n",
       "</div>"
      ],
      "text/plain": [
       "      match_no batting_team  batting_side  overs runs  \\\n",
       "0            1          AFG             2    0.1    1   \n",
       "1            1          AFG             2    0.2    0   \n",
       "2            1          AFG             2    0.3  1lb   \n",
       "3            1          AFG             2    0.4    0   \n",
       "4            1          AFG             2    0.5   5w   \n",
       "...        ...          ...           ...    ...  ...   \n",
       "2646        13           SL             1   19.2    2   \n",
       "2647        13           SL             1   19.3    2   \n",
       "2648        13           SL             1   19.4    0   \n",
       "2649        13           SL             1   19.5    4   \n",
       "2650        13           SL             1   19.6    6   \n",
       "\n",
       "                      bowler_to_batsman, runs  \\\n",
       "0      Madushanka to Hazratullah Zazai, 1 run   \n",
       "1           Madushanka to Rahmanullah, no run   \n",
       "2        Madushanka to Rahmanullah, 1 leg bye   \n",
       "3     Madushanka to Hazratullah Zazai, no run   \n",
       "4     Madushanka to Hazratullah Zazai, 5 wide   \n",
       "...                                       ...   \n",
       "2646         Naseem Shah to Rajapaksa, 2 runs   \n",
       "2647         Naseem Shah to Rajapaksa, 2 runs   \n",
       "2648         Naseem Shah to Rajapaksa, no run   \n",
       "2649      Naseem Shah to Rajapaksa, FOUR runs   \n",
       "2650       Naseem Shah to Rajapaksa, SIX runs   \n",
       "\n",
       "                                             commentary  \n",
       "0                  nudged down to fine leg for a single  \n",
       "1     lovely delivery, Holds its line and beats the ...  \n",
       "2     shaping back into him. He squeezes it thbrough...  \n",
       "3        driven to extra cover, where it's well fielded  \n",
       "4     well, that's help. 5 free runs gifted to Afgha...  \n",
       "...                                                 ...  \n",
       "2646  gets back on strike with some hard running. Sl...  \n",
       "2647  another double. And 160 is breached. Full ball...  \n",
       "2648  short ball, slower ball on middle. Rajapaksa w...  \n",
       "2649  cute shot! Full on middle and leg. Rajapaksa m...  \n",
       "2650  momentum with Sri Lanka! And the tournament's ...  \n",
       "\n",
       "[2651 rows x 7 columns]"
      ]
     },
     "execution_count": 10,
     "metadata": {},
     "output_type": "execute_result"
    }
   ],
   "source": [
    "df = pd.read_csv('ball_by_ball_data_commentary.csv')\n",
    "df"
   ]
  },
  {
   "cell_type": "code",
   "execution_count": 11,
   "id": "8e586da9",
   "metadata": {},
   "outputs": [
    {
     "data": {
      "text/plain": [
       "Index(['match_no', 'batting_team', 'batting_side', 'overs', 'runs',\n",
       "       'bowler_to_batsman, runs', 'commentary'],\n",
       "      dtype='object')"
      ]
     },
     "execution_count": 11,
     "metadata": {},
     "output_type": "execute_result"
    }
   ],
   "source": [
    "df.columns"
   ]
  },
  {
   "cell_type": "code",
   "execution_count": 12,
   "id": "78683ba8",
   "metadata": {},
   "outputs": [
    {
     "data": {
      "text/plain": [
       "0                    nudged down to fine leg for a single\n",
       "1       lovely delivery, Holds its line and beats the ...\n",
       "2       shaping back into him. He squeezes it thbrough...\n",
       "3          driven to extra cover, where it's well fielded\n",
       "4       well, that's help. 5 free runs gifted to Afgha...\n",
       "                              ...                        \n",
       "2646    gets back on strike with some hard running. Sl...\n",
       "2647    another double. And 160 is breached. Full ball...\n",
       "2648    short ball, slower ball on middle. Rajapaksa w...\n",
       "2649    cute shot! Full on middle and leg. Rajapaksa m...\n",
       "2650    momentum with Sri Lanka! And the tournament's ...\n",
       "Name: commentary, Length: 2651, dtype: object"
      ]
     },
     "execution_count": 12,
     "metadata": {},
     "output_type": "execute_result"
    }
   ],
   "source": [
    "df['commentary']"
   ]
  },
  {
   "cell_type": "code",
   "execution_count": 13,
   "id": "82a2064c",
   "metadata": {
    "scrolled": false
   },
   "outputs": [
    {
     "name": "stdout",
     "output_type": "stream",
     "text": [
      "match_no                   0\n",
      "batting_team               0\n",
      "batting_side               0\n",
      "overs                      0\n",
      "runs                       0\n",
      "bowler_to_batsman, runs    3\n",
      "commentary                 3\n",
      "dtype: int64\n"
     ]
    }
   ],
   "source": [
    "print(df.isnull().sum())"
   ]
  },
  {
   "cell_type": "code",
   "execution_count": 14,
   "id": "5ab64e27",
   "metadata": {
    "scrolled": true
   },
   "outputs": [
    {
     "name": "stdout",
     "output_type": "stream",
     "text": [
      "match_no                   0\n",
      "batting_team               0\n",
      "batting_side               0\n",
      "overs                      0\n",
      "runs                       0\n",
      "bowler_to_batsman, runs    0\n",
      "commentary                 0\n",
      "dtype: int64\n"
     ]
    }
   ],
   "source": [
    "df.dropna(subset=['bowler_to_batsman, runs', 'commentary'], inplace=True)\n",
    "\n",
    "print(df.isnull().sum())"
   ]
  },
  {
   "cell_type": "code",
   "execution_count": 15,
   "id": "cf02cfe1",
   "metadata": {
    "scrolled": false
   },
   "outputs": [
    {
     "data": {
      "text/plain": [
       "1      1002\n",
       "0       781\n",
       "4       249\n",
       "2       191\n",
       "W       147\n",
       "6       127\n",
       "1w       74\n",
       "1lb      33\n",
       "3         9\n",
       "5w        8\n",
       "1nb       6\n",
       "2w        3\n",
       "5nb       3\n",
       "4lb       3\n",
       "1b        3\n",
       "2lb       2\n",
       "3nb       2\n",
       "4b        2\n",
       "3w        1\n",
       "2b        1\n",
       "2nb       1\n",
       "Name: runs, dtype: int64"
      ]
     },
     "execution_count": 15,
     "metadata": {},
     "output_type": "execute_result"
    }
   ],
   "source": [
    "df[\"runs\"].value_counts()"
   ]
  },
  {
   "cell_type": "code",
   "execution_count": 16,
   "id": "c5b3e93b",
   "metadata": {
    "scrolled": true
   },
   "outputs": [
    {
     "data": {
      "text/plain": [
       "<Axes: ylabel='runs'>"
      ]
     },
     "execution_count": 16,
     "metadata": {},
     "output_type": "execute_result"
    },
    {
     "data": {
      "image/png": "[encoded data removed]",
      "text/plain": [
       "<Figure size 640x480 with 1 Axes>"
      ]
     },
     "metadata": {},
     "output_type": "display_data"
    }
   ],
   "source": [
    "df[\"runs\"].value_counts(dropna=False).plot(kind=\"pie\")"
   ]
  },
  {
   "cell_type": "code",
   "execution_count": 17,
   "id": "54e3c287",
   "metadata": {
    "scrolled": true
   },
   "outputs": [
    {
     "name": "stdout",
     "output_type": "stream",
     "text": [
      "W      147\n",
      "1w      74\n",
      "1lb     33\n",
      "5w       8\n",
      "1nb      6\n",
      "2w       3\n",
      "5nb      3\n",
      "4lb      3\n",
      "1b       3\n",
      "2lb      2\n",
      "3nb      2\n",
      "4b       2\n",
      "3w       1\n",
      "2b       1\n",
      "2nb      1\n",
      "Name: runs, dtype: int64\n"
     ]
    },
    {
     "data": {
      "text/plain": [
       "<Axes: ylabel='runs'>"
      ]
     },
     "execution_count": 17,
     "metadata": {},
     "output_type": "execute_result"
    },
    {
     "data": {
      "image/png": "[encoded data removed]",
      "text/plain": [
       "<Figure size 640x480 with 1 Axes>"
      ]
     },
     "metadata": {},
     "output_type": "display_data"
    }
   ],
   "source": [
    "new_df = df[~df['runs'].str.isnumeric()]\n",
    "print(new_df['runs'].value_counts())\n",
    "new_df['runs'].value_counts(dropna=False).plot(kind=\"pie\")"
   ]
  },
  {
   "cell_type": "code",
   "execution_count": 18,
   "id": "3f16442d",
   "metadata": {},
   "outputs": [],
   "source": [
    "def separate_special_tags_on_runs(text):\n",
    "    match = re.match(r'(\\d+)', text)\n",
    "    if match:\n",
    "        return int(match.group(1))\n",
    "    elif text == 'W':\n",
    "        return 0\n",
    "    else:\n",
    "        return None"
   ]
  },
  {
   "cell_type": "code",
   "execution_count": 19,
   "id": "bb4b3235",
   "metadata": {
    "scrolled": false
   },
   "outputs": [
    {
     "data": {
      "text/plain": [
       "<Axes: ylabel='numerical_runs'>"
      ]
     },
     "execution_count": 19,
     "metadata": {},
     "output_type": "execute_result"
    },
    {
     "data": {
      "image/png": "[encoded data removed]",
      "text/plain": [
       "<Figure size 640x480 with 1 Axes>"
      ]
     },
     "metadata": {},
     "output_type": "display_data"
    }
   ],
   "source": [
    "df['numerical_runs'] = df['runs'].apply(lambda x: separate_special_tags_on_runs(x))\n",
    "df[\"numerical_runs\"].value_counts(dropna=False).plot(kind=\"pie\")"
   ]
  },
  {
   "cell_type": "code",
   "execution_count": 20,
   "id": "98afd35f",
   "metadata": {},
   "outputs": [],
   "source": [
    "bowler_strings = []\n",
    "batsman_strings = []\n",
    "\n",
    "# Bowler\n",
    "for x in df['bowler_to_batsman, runs']:\n",
    "    match = re.search(r'^(.*?)\\s+to', x)\n",
    "    if match:\n",
    "        bowler_strings.append(match.group(1).strip())\n",
    "\n",
    "df['bowler'] = bowler_strings\n",
    "\n",
    "# Batsman\n",
    "for y in df['bowler_to_batsman, runs']:\n",
    "    match = re.search(r'to\\s(.*?),', y)\n",
    "    if match:\n",
    "        batsman_strings.append(match.group(1).strip())\n",
    "        \n",
    "df['batsman'] = batsman_strings"
   ]
  },
  {
   "cell_type": "code",
   "execution_count": 21,
   "id": "ade057b6",
   "metadata": {},
   "outputs": [
    {
     "data": {
      "text/html": [
       "<div>\n",
       "<style scoped>\n",
       "    .dataframe tbody tr th:only-of-type {\n",
       "        vertical-align: middle;\n",
       "    }\n",
       "\n",
       "    .dataframe tbody tr th {\n",
       "        vertical-align: top;\n",
       "    }\n",
       "\n",
       "    .dataframe thead th {\n",
       "        text-align: right;\n",
       "    }\n",
       "</style>\n",
       "<table border=\"1\" class=\"dataframe\">\n",
       "  <thead>\n",
       "    <tr style=\"text-align: right;\">\n",
       "      <th></th>\n",
       "      <th>match_no</th>\n",
       "      <th>batting_team</th>\n",
       "      <th>batting_side</th>\n",
       "      <th>overs</th>\n",
       "      <th>runs</th>\n",
       "      <th>bowler_to_batsman, runs</th>\n",
       "      <th>commentary</th>\n",
       "      <th>numerical_runs</th>\n",
       "      <th>bowler</th>\n",
       "      <th>batsman</th>\n",
       "    </tr>\n",
       "  </thead>\n",
       "  <tbody>\n",
       "    <tr>\n",
       "      <th>0</th>\n",
       "      <td>1</td>\n",
       "      <td>AFG</td>\n",
       "      <td>2</td>\n",
       "      <td>0.1</td>\n",
       "      <td>1</td>\n",
       "      <td>Madushanka to Hazratullah Zazai, 1 run</td>\n",
       "      <td>nudged down to fine leg for a single</td>\n",
       "      <td>1</td>\n",
       "      <td>Madushanka</td>\n",
       "      <td>Hazratullah Zazai</td>\n",
       "    </tr>\n",
       "    <tr>\n",
       "      <th>1</th>\n",
       "      <td>1</td>\n",
       "      <td>AFG</td>\n",
       "      <td>2</td>\n",
       "      <td>0.2</td>\n",
       "      <td>0</td>\n",
       "      <td>Madushanka to Rahmanullah, no run</td>\n",
       "      <td>lovely delivery, Holds its line and beats the ...</td>\n",
       "      <td>0</td>\n",
       "      <td>Madushanka</td>\n",
       "      <td>Rahmanullah</td>\n",
       "    </tr>\n",
       "    <tr>\n",
       "      <th>2</th>\n",
       "      <td>1</td>\n",
       "      <td>AFG</td>\n",
       "      <td>2</td>\n",
       "      <td>0.3</td>\n",
       "      <td>1lb</td>\n",
       "      <td>Madushanka to Rahmanullah, 1 leg bye</td>\n",
       "      <td>shaping back into him. He squeezes it thbrough...</td>\n",
       "      <td>1</td>\n",
       "      <td>Madushanka</td>\n",
       "      <td>Rahmanullah</td>\n",
       "    </tr>\n",
       "    <tr>\n",
       "      <th>3</th>\n",
       "      <td>1</td>\n",
       "      <td>AFG</td>\n",
       "      <td>2</td>\n",
       "      <td>0.4</td>\n",
       "      <td>0</td>\n",
       "      <td>Madushanka to Hazratullah Zazai, no run</td>\n",
       "      <td>driven to extra cover, where it's well fielded</td>\n",
       "      <td>0</td>\n",
       "      <td>Madushanka</td>\n",
       "      <td>Hazratullah Zazai</td>\n",
       "    </tr>\n",
       "    <tr>\n",
       "      <th>4</th>\n",
       "      <td>1</td>\n",
       "      <td>AFG</td>\n",
       "      <td>2</td>\n",
       "      <td>0.5</td>\n",
       "      <td>5w</td>\n",
       "      <td>Madushanka to Hazratullah Zazai, 5 wide</td>\n",
       "      <td>well, that's help. 5 free runs gifted to Afgha...</td>\n",
       "      <td>5</td>\n",
       "      <td>Madushanka</td>\n",
       "      <td>Hazratullah Zazai</td>\n",
       "    </tr>\n",
       "    <tr>\n",
       "      <th>...</th>\n",
       "      <td>...</td>\n",
       "      <td>...</td>\n",
       "      <td>...</td>\n",
       "      <td>...</td>\n",
       "      <td>...</td>\n",
       "      <td>...</td>\n",
       "      <td>...</td>\n",
       "      <td>...</td>\n",
       "      <td>...</td>\n",
       "      <td>...</td>\n",
       "    </tr>\n",
       "    <tr>\n",
       "      <th>2646</th>\n",
       "      <td>13</td>\n",
       "      <td>SL</td>\n",
       "      <td>1</td>\n",
       "      <td>19.2</td>\n",
       "      <td>2</td>\n",
       "      <td>Naseem Shah to Rajapaksa, 2 runs</td>\n",
       "      <td>gets back on strike with some hard running. Sl...</td>\n",
       "      <td>2</td>\n",
       "      <td>Naseem Shah</td>\n",
       "      <td>Rajapaksa</td>\n",
       "    </tr>\n",
       "    <tr>\n",
       "      <th>2647</th>\n",
       "      <td>13</td>\n",
       "      <td>SL</td>\n",
       "      <td>1</td>\n",
       "      <td>19.3</td>\n",
       "      <td>2</td>\n",
       "      <td>Naseem Shah to Rajapaksa, 2 runs</td>\n",
       "      <td>another double. And 160 is breached. Full ball...</td>\n",
       "      <td>2</td>\n",
       "      <td>Naseem Shah</td>\n",
       "      <td>Rajapaksa</td>\n",
       "    </tr>\n",
       "    <tr>\n",
       "      <th>2648</th>\n",
       "      <td>13</td>\n",
       "      <td>SL</td>\n",
       "      <td>1</td>\n",
       "      <td>19.4</td>\n",
       "      <td>0</td>\n",
       "      <td>Naseem Shah to Rajapaksa, no run</td>\n",
       "      <td>short ball, slower ball on middle. Rajapaksa w...</td>\n",
       "      <td>0</td>\n",
       "      <td>Naseem Shah</td>\n",
       "      <td>Rajapaksa</td>\n",
       "    </tr>\n",
       "    <tr>\n",
       "      <th>2649</th>\n",
       "      <td>13</td>\n",
       "      <td>SL</td>\n",
       "      <td>1</td>\n",
       "      <td>19.5</td>\n",
       "      <td>4</td>\n",
       "      <td>Naseem Shah to Rajapaksa, FOUR runs</td>\n",
       "      <td>cute shot! Full on middle and leg. Rajapaksa m...</td>\n",
       "      <td>4</td>\n",
       "      <td>Naseem Shah</td>\n",
       "      <td>Rajapaksa</td>\n",
       "    </tr>\n",
       "    <tr>\n",
       "      <th>2650</th>\n",
       "      <td>13</td>\n",
       "      <td>SL</td>\n",
       "      <td>1</td>\n",
       "      <td>19.6</td>\n",
       "      <td>6</td>\n",
       "      <td>Naseem Shah to Rajapaksa, SIX runs</td>\n",
       "      <td>momentum with Sri Lanka! And the tournament's ...</td>\n",
       "      <td>6</td>\n",
       "      <td>Naseem Shah</td>\n",
       "      <td>Rajapaksa</td>\n",
       "    </tr>\n",
       "  </tbody>\n",
       "</table>\n",
       "<p>2648 rows × 10 columns</p>\n",
       "</div>"
      ],
      "text/plain": [
       "      match_no batting_team  batting_side  overs runs  \\\n",
       "0            1          AFG             2    0.1    1   \n",
       "1            1          AFG             2    0.2    0   \n",
       "2            1          AFG             2    0.3  1lb   \n",
       "3            1          AFG             2    0.4    0   \n",
       "4            1          AFG             2    0.5   5w   \n",
       "...        ...          ...           ...    ...  ...   \n",
       "2646        13           SL             1   19.2    2   \n",
       "2647        13           SL             1   19.3    2   \n",
       "2648        13           SL             1   19.4    0   \n",
       "2649        13           SL             1   19.5    4   \n",
       "2650        13           SL             1   19.6    6   \n",
       "\n",
       "                      bowler_to_batsman, runs  \\\n",
       "0      Madushanka to Hazratullah Zazai, 1 run   \n",
       "1           Madushanka to Rahmanullah, no run   \n",
       "2        Madushanka to Rahmanullah, 1 leg bye   \n",
       "3     Madushanka to Hazratullah Zazai, no run   \n",
       "4     Madushanka to Hazratullah Zazai, 5 wide   \n",
       "...                                       ...   \n",
       "2646         Naseem Shah to Rajapaksa, 2 runs   \n",
       "2647         Naseem Shah to Rajapaksa, 2 runs   \n",
       "2648         Naseem Shah to Rajapaksa, no run   \n",
       "2649      Naseem Shah to Rajapaksa, FOUR runs   \n",
       "2650       Naseem Shah to Rajapaksa, SIX runs   \n",
       "\n",
       "                                             commentary  numerical_runs  \\\n",
       "0                  nudged down to fine leg for a single               1   \n",
       "1     lovely delivery, Holds its line and beats the ...               0   \n",
       "2     shaping back into him. He squeezes it thbrough...               1   \n",
       "3        driven to extra cover, where it's well fielded               0   \n",
       "4     well, that's help. 5 free runs gifted to Afgha...               5   \n",
       "...                                                 ...             ...   \n",
       "2646  gets back on strike with some hard running. Sl...               2   \n",
       "2647  another double. And 160 is breached. Full ball...               2   \n",
       "2648  short ball, slower ball on middle. Rajapaksa w...               0   \n",
       "2649  cute shot! Full on middle and leg. Rajapaksa m...               4   \n",
       "2650  momentum with Sri Lanka! And the tournament's ...               6   \n",
       "\n",
       "           bowler            batsman  \n",
       "0      Madushanka  Hazratullah Zazai  \n",
       "1      Madushanka        Rahmanullah  \n",
       "2      Madushanka        Rahmanullah  \n",
       "3      Madushanka  Hazratullah Zazai  \n",
       "4      Madushanka  Hazratullah Zazai  \n",
       "...           ...                ...  \n",
       "2646  Naseem Shah          Rajapaksa  \n",
       "2647  Naseem Shah          Rajapaksa  \n",
       "2648  Naseem Shah          Rajapaksa  \n",
       "2649  Naseem Shah          Rajapaksa  \n",
       "2650  Naseem Shah          Rajapaksa  \n",
       "\n",
       "[2648 rows x 10 columns]"
      ]
     },
     "execution_count": 21,
     "metadata": {},
     "output_type": "execute_result"
    }
   ],
   "source": [
    "df"
   ]
  },
  {
   "cell_type": "code",
   "execution_count": 22,
   "id": "f97e3e78",
   "metadata": {},
   "outputs": [
    {
     "data": {
      "text/plain": [
       "\"well, that's help. 5 free runs gifted to Afghamistan, as this is so far down leg the keeper can do nought about it\""
      ]
     },
     "execution_count": 22,
     "metadata": {},
     "output_type": "execute_result"
    }
   ],
   "source": [
    "df['commentary'][4]"
   ]
  },
  {
   "cell_type": "code",
   "execution_count": 23,
   "id": "dadf3173",
   "metadata": {
    "scrolled": true
   },
   "outputs": [],
   "source": [
    "def named_entity_recognition (text):\n",
    "    categories = ['PERSON', 'GPE']\n",
    "    words = []\n",
    "    \n",
    "    doc = spacy(text)\n",
    "    \n",
    "    for word_and_ent in doc:\n",
    "        if not word_and_ent.ent_type_ in categories:\n",
    "            words.append(word_and_ent.text)\n",
    "            \n",
    "    cleaned_words = \" \".join(words)\n",
    "    \n",
    "    return cleaned_words\n",
    "    "
   ]
  },
  {
   "cell_type": "code",
   "execution_count": 25,
   "id": "e7edccdb",
   "metadata": {},
   "outputs": [],
   "source": [
    "def numero(text):\n",
    "    return re.sub(r'\\b\\d+\\b', '', text)"
   ]
  },
  {
   "cell_type": "code",
   "execution_count": 26,
   "id": "a5598201",
   "metadata": {},
   "outputs": [],
   "source": [
    "def correct_spelling(text):\n",
    "    spell = SpellChecker()\n",
    "\n",
    "    words = text.split()\n",
    "    corrected_words = [spell.correction(word) if spell.correction(word) is not None else word for word in words]\n",
    "    return ' '.join(corrected_words)"
   ]
  },
  {
   "cell_type": "code",
   "execution_count": 27,
   "id": "76e0fb66",
   "metadata": {},
   "outputs": [],
   "source": [
    "def replaced (text):\n",
    "    words = ['single', 'double', 'couple', 'four', 'six', 'one', 'two', 'three', 'second', 'five', '50', '100', '150', 'fifty', 'hundred']\n",
    "    for word in words:\n",
    "        text = text.replace(word, '')\n",
    "    return text"
   ]
  },
  {
   "cell_type": "code",
   "execution_count": 28,
   "id": "b8caf774",
   "metadata": {},
   "outputs": [],
   "source": [
    "def stemming (text):\n",
    "    porter = PorterStemmer()\n",
    "    stemmed_words = []\n",
    "    \n",
    "    words = word_tokenize(text)\n",
    "    for word in words: \n",
    "        stemmed_words.append(porter.stem(word))               \n",
    "                \n",
    "    stemmed_words = \" \".join(stemmed_words)\n",
    "    \n",
    "    return stemmed_words"
   ]
  },
  {
   "cell_type": "code",
   "execution_count": 29,
   "id": "db8f6834",
   "metadata": {},
   "outputs": [],
   "source": [
    "def lemmatization (text):\n",
    "    lemmatizer = WordNetLemmatizer()\n",
    "\n",
    "    lemmatized_words = []\n",
    "\n",
    "    words = word_tokenize(text)\n",
    "    for word in words: \n",
    "        lemmatized_words.append(lemmatizer.lemmatize(word))\n",
    "\n",
    "    lemmatized_words = \" \".join(lemmatized_words)\n",
    "\n",
    "    return lemmatized_words"
   ]
  },
  {
   "cell_type": "code",
   "execution_count": 30,
   "id": "9fe20787",
   "metadata": {},
   "outputs": [],
   "source": [
    "def remove_stopwords (text):\n",
    "    stop_words = set(stopwords.words('english'))\n",
    "    word_tokens = word_tokenize(text)\n",
    "    \n",
    "    filtered_sentence = [word for word in word_tokens if word not in stop_words]\n",
    "    \n",
    "    return filtered_sentence"
   ]
  },
  {
   "cell_type": "code",
   "execution_count": 32,
   "id": "9bf1681b",
   "metadata": {},
   "outputs": [],
   "source": [
    "def remove_punctuation(text):\n",
    "    return re.sub(r'[^\\w\\s]', '', text)"
   ]
  },
  {
   "cell_type": "code",
   "execution_count": 33,
   "id": "daf28e75",
   "metadata": {},
   "outputs": [],
   "source": [
    "def preprocessing (text):\n",
    "    text = text.lower()\n",
    "    text = remove_punctuation(text)\n",
    "    text = numero(text)\n",
    "    text = correct_spelling(text)\n",
    "    text = named_entity_recognition(text)\n",
    "    text = replaced(text)\n",
    "    text = stemming(text)\n",
    "    text = lemmatization(text)\n",
    "    text = remove_stopwords(text)\n",
    "    \n",
    "    return text"
   ]
  },
  {
   "cell_type": "code",
   "execution_count": 34,
   "id": "d75eff88",
   "metadata": {
    "scrolled": true
   },
   "outputs": [
    {
     "name": "stderr",
     "output_type": "stream",
     "text": [
      "\n",
      "KeyboardInterrupt\n",
      "\n"
     ]
    }
   ],
   "source": [
    "df['preprocessed_commentary'] = df['commentary'].apply(lambda x: preprocessing(x))\n",
    "df.head()"
   ]
  },
  {
   "cell_type": "code",
   "execution_count": null,
   "id": "dfd88003",
   "metadata": {},
   "outputs": [],
   "source": [
    "#Saving it because spell_check takes a long time\n",
    "df.to_csv(\"spell_checked_df\", index=False, encoding='utf-8')"
   ]
  },
  {
   "cell_type": "code",
   "execution_count": null,
   "id": "39a1a77f",
   "metadata": {
    "scrolled": true
   },
   "outputs": [],
   "source": [
    "df = pd.read_csv(\"spell_checked_df\")\n",
    "df"
   ]
  },
  {
   "cell_type": "code",
   "execution_count": null,
   "id": "03b10e4c",
   "metadata": {},
   "outputs": [],
   "source": [
    "def remove_words(commentary):\n",
    "    words_to_remove = [\"sri\", \"lanka\", \"west\", \"indies\"]\n",
    "    for word in words_to_remove:\n",
    "        commentary = commentary.replace(word, \"\")\n",
    "    return commentary"
   ]
  },
  {
   "cell_type": "code",
   "execution_count": null,
   "id": "a2169837",
   "metadata": {
    "scrolled": true
   },
   "outputs": [],
   "source": [
    "df[\"preprocessed_commentary\"] = df[\"preprocessed_commentary\"].apply(remove_words)"
   ]
  }
 ],
 "metadata": {
  "kernelspec": {
   "display_name": "myenv",
   "language": "python",
   "name": "myenv"
  },
  "language_info": {
   "codemirror_mode": {
    "name": "ipython",
    "version": 3
   },
   "file_extension": ".py",
   "mimetype": "text/x-python",
   "name": "python",
   "nbconvert_exporter": "python",
   "pygments_lexer": "ipython3",
   "version": "3.10.9"
  }
 },
 "nbformat": 4,
 "nbformat_minor": 5
}
